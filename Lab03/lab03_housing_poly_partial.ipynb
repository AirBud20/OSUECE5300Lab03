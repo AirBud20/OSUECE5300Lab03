{
 "cells": [
  {
   "cell_type": "markdown",
   "metadata": {},
   "source": [
    "# Lab 03:  Model Selection for Boston housing data\n",
    "\n",
    "In this lab, you will apply polynomial regression with model order selection to the Boston housing dataset. \n",
    "\n",
    "Before doing this lab, you should review the ideas in the [polynomial model selection demo](./polyfit.ipynb).  In addition to the concepts in that demo, you will learn to:\n",
    "* Load data\n",
    "* Fit a polynomial model for a given model order \n",
    "* Select the model order via K-fold cross-validation and the one-standard-error rule.\n",
    "  "
   ]
  },
  {
   "cell_type": "markdown",
   "metadata": {},
   "source": [
    "## Loading the data\n",
    "\n",
    "We first load the standard packages."
   ]
  },
  {
   "cell_type": "code",
   "execution_count": 30,
   "metadata": {},
   "outputs": [],
   "source": [
    "import numpy as np\n",
    "import matplotlib\n",
    "import matplotlib.pyplot as plt\n",
    "%matplotlib inline"
   ]
  },
  {
   "cell_type": "markdown",
   "metadata": {},
   "source": [
    "We now load the Boston housing dataset, which happens to be pre-loaded into sklearn."
   ]
  },
  {
   "cell_type": "code",
   "execution_count": 31,
   "metadata": {},
   "outputs": [],
   "source": [
    "from sklearn.datasets import load_boston\n",
    "boston = load_boston()"
   ]
  },
  {
   "cell_type": "markdown",
   "metadata": {},
   "source": [
    "Let's see what the dataset contains."
   ]
  },
  {
   "cell_type": "code",
   "execution_count": 32,
   "metadata": {},
   "outputs": [
    {
     "name": "stdout",
     "output_type": "stream",
     "text": [
      "dict_keys(['data', 'target', 'feature_names', 'DESCR', 'filename'])\n"
     ]
    }
   ],
   "source": [
    "print(boston.keys())"
   ]
  },
  {
   "cell_type": "markdown",
   "metadata": {},
   "source": [
    "The structure `boston` is made up of\n",
    "* `data`: which contains the information for various houses\n",
    "* `target`: which contains their prices\n",
    "* `feature_names`: which contains the names of the features, and\n",
    "* `DESCR`: which describes the dataset\n",
    "* `filename`: which shows where the file is stored on your local machine\n",
    "\n",
    "Let's print the description."
   ]
  },
  {
   "cell_type": "code",
   "execution_count": 33,
   "metadata": {},
   "outputs": [
    {
     "name": "stdout",
     "output_type": "stream",
     "text": [
      ".. _boston_dataset:\n",
      "\n",
      "Boston house prices dataset\n",
      "---------------------------\n",
      "\n",
      "**Data Set Characteristics:**  \n",
      "\n",
      "    :Number of Instances: 506 \n",
      "\n",
      "    :Number of Attributes: 13 numeric/categorical predictive. Median Value (attribute 14) is usually the target.\n",
      "\n",
      "    :Attribute Information (in order):\n",
      "        - CRIM     per capita crime rate by town\n",
      "        - ZN       proportion of residential land zoned for lots over 25,000 sq.ft.\n",
      "        - INDUS    proportion of non-retail business acres per town\n",
      "        - CHAS     Charles River dummy variable (= 1 if tract bounds river; 0 otherwise)\n",
      "        - NOX      nitric oxides concentration (parts per 10 million)\n",
      "        - RM       average number of rooms per dwelling\n",
      "        - AGE      proportion of owner-occupied units built prior to 1940\n",
      "        - DIS      weighted distances to five Boston employment centres\n",
      "        - RAD      index of accessibility to radial highways\n",
      "        - TAX      full-value property-tax rate per $10,000\n",
      "        - PTRATIO  pupil-teacher ratio by town\n",
      "        - B        1000(Bk - 0.63)^2 where Bk is the proportion of blacks by town\n",
      "        - LSTAT    % lower status of the population\n",
      "        - MEDV     Median value of owner-occupied homes in $1000's\n",
      "\n",
      "    :Missing Attribute Values: None\n",
      "\n",
      "    :Creator: Harrison, D. and Rubinfeld, D.L.\n",
      "\n",
      "This is a copy of UCI ML housing dataset.\n",
      "https://archive.ics.uci.edu/ml/machine-learning-databases/housing/\n",
      "\n",
      "\n",
      "This dataset was taken from the StatLib library which is maintained at Carnegie Mellon University.\n",
      "\n",
      "The Boston house-price data of Harrison, D. and Rubinfeld, D.L. 'Hedonic\n",
      "prices and the demand for clean air', J. Environ. Economics & Management,\n",
      "vol.5, 81-102, 1978.   Used in Belsley, Kuh & Welsch, 'Regression diagnostics\n",
      "...', Wiley, 1980.   N.B. Various transformations are used in the table on\n",
      "pages 244-261 of the latter.\n",
      "\n",
      "The Boston house-price data has been used in many machine learning papers that address regression\n",
      "problems.   \n",
      "     \n",
      ".. topic:: References\n",
      "\n",
      "   - Belsley, Kuh & Welsch, 'Regression diagnostics: Identifying Influential Data and Sources of Collinearity', Wiley, 1980. 244-261.\n",
      "   - Quinlan,R. (1993). Combining Instance-Based and Model-Based Learning. In Proceedings on the Tenth International Conference of Machine Learning, 236-243, University of Massachusetts, Amherst. Morgan Kaufmann.\n",
      "\n"
     ]
    }
   ],
   "source": [
    "print(boston.DESCR)"
   ]
  },
  {
   "cell_type": "markdown",
   "metadata": {},
   "source": [
    "Let's turn this dataset into a `pandas` dataframe for ease of handling."
   ]
  },
  {
   "cell_type": "code",
   "execution_count": 34,
   "metadata": {},
   "outputs": [
    {
     "data": {
      "text/html": [
       "<div>\n",
       "<style scoped>\n",
       "    .dataframe tbody tr th:only-of-type {\n",
       "        vertical-align: middle;\n",
       "    }\n",
       "\n",
       "    .dataframe tbody tr th {\n",
       "        vertical-align: top;\n",
       "    }\n",
       "\n",
       "    .dataframe thead th {\n",
       "        text-align: right;\n",
       "    }\n",
       "</style>\n",
       "<table border=\"1\" class=\"dataframe\">\n",
       "  <thead>\n",
       "    <tr style=\"text-align: right;\">\n",
       "      <th></th>\n",
       "      <th>CRIM</th>\n",
       "      <th>ZN</th>\n",
       "      <th>INDUS</th>\n",
       "      <th>CHAS</th>\n",
       "      <th>NOX</th>\n",
       "      <th>RM</th>\n",
       "      <th>AGE</th>\n",
       "      <th>DIS</th>\n",
       "      <th>RAD</th>\n",
       "      <th>TAX</th>\n",
       "      <th>PTRATIO</th>\n",
       "      <th>B</th>\n",
       "      <th>LSTAT</th>\n",
       "      <th>MEDV</th>\n",
       "    </tr>\n",
       "  </thead>\n",
       "  <tbody>\n",
       "    <tr>\n",
       "      <td>0</td>\n",
       "      <td>0.00632</td>\n",
       "      <td>18.0</td>\n",
       "      <td>2.31</td>\n",
       "      <td>0.0</td>\n",
       "      <td>0.538</td>\n",
       "      <td>6.575</td>\n",
       "      <td>65.2</td>\n",
       "      <td>4.0900</td>\n",
       "      <td>1.0</td>\n",
       "      <td>296.0</td>\n",
       "      <td>15.3</td>\n",
       "      <td>396.90</td>\n",
       "      <td>4.98</td>\n",
       "      <td>24.0</td>\n",
       "    </tr>\n",
       "    <tr>\n",
       "      <td>1</td>\n",
       "      <td>0.02731</td>\n",
       "      <td>0.0</td>\n",
       "      <td>7.07</td>\n",
       "      <td>0.0</td>\n",
       "      <td>0.469</td>\n",
       "      <td>6.421</td>\n",
       "      <td>78.9</td>\n",
       "      <td>4.9671</td>\n",
       "      <td>2.0</td>\n",
       "      <td>242.0</td>\n",
       "      <td>17.8</td>\n",
       "      <td>396.90</td>\n",
       "      <td>9.14</td>\n",
       "      <td>21.6</td>\n",
       "    </tr>\n",
       "    <tr>\n",
       "      <td>2</td>\n",
       "      <td>0.02729</td>\n",
       "      <td>0.0</td>\n",
       "      <td>7.07</td>\n",
       "      <td>0.0</td>\n",
       "      <td>0.469</td>\n",
       "      <td>7.185</td>\n",
       "      <td>61.1</td>\n",
       "      <td>4.9671</td>\n",
       "      <td>2.0</td>\n",
       "      <td>242.0</td>\n",
       "      <td>17.8</td>\n",
       "      <td>392.83</td>\n",
       "      <td>4.03</td>\n",
       "      <td>34.7</td>\n",
       "    </tr>\n",
       "    <tr>\n",
       "      <td>3</td>\n",
       "      <td>0.03237</td>\n",
       "      <td>0.0</td>\n",
       "      <td>2.18</td>\n",
       "      <td>0.0</td>\n",
       "      <td>0.458</td>\n",
       "      <td>6.998</td>\n",
       "      <td>45.8</td>\n",
       "      <td>6.0622</td>\n",
       "      <td>3.0</td>\n",
       "      <td>222.0</td>\n",
       "      <td>18.7</td>\n",
       "      <td>394.63</td>\n",
       "      <td>2.94</td>\n",
       "      <td>33.4</td>\n",
       "    </tr>\n",
       "    <tr>\n",
       "      <td>4</td>\n",
       "      <td>0.06905</td>\n",
       "      <td>0.0</td>\n",
       "      <td>2.18</td>\n",
       "      <td>0.0</td>\n",
       "      <td>0.458</td>\n",
       "      <td>7.147</td>\n",
       "      <td>54.2</td>\n",
       "      <td>6.0622</td>\n",
       "      <td>3.0</td>\n",
       "      <td>222.0</td>\n",
       "      <td>18.7</td>\n",
       "      <td>396.90</td>\n",
       "      <td>5.33</td>\n",
       "      <td>36.2</td>\n",
       "    </tr>\n",
       "    <tr>\n",
       "      <td>5</td>\n",
       "      <td>0.02985</td>\n",
       "      <td>0.0</td>\n",
       "      <td>2.18</td>\n",
       "      <td>0.0</td>\n",
       "      <td>0.458</td>\n",
       "      <td>6.430</td>\n",
       "      <td>58.7</td>\n",
       "      <td>6.0622</td>\n",
       "      <td>3.0</td>\n",
       "      <td>222.0</td>\n",
       "      <td>18.7</td>\n",
       "      <td>394.12</td>\n",
       "      <td>5.21</td>\n",
       "      <td>28.7</td>\n",
       "    </tr>\n",
       "  </tbody>\n",
       "</table>\n",
       "</div>"
      ],
      "text/plain": [
       "      CRIM    ZN  INDUS  CHAS    NOX     RM   AGE     DIS  RAD    TAX  \\\n",
       "0  0.00632  18.0   2.31   0.0  0.538  6.575  65.2  4.0900  1.0  296.0   \n",
       "1  0.02731   0.0   7.07   0.0  0.469  6.421  78.9  4.9671  2.0  242.0   \n",
       "2  0.02729   0.0   7.07   0.0  0.469  7.185  61.1  4.9671  2.0  242.0   \n",
       "3  0.03237   0.0   2.18   0.0  0.458  6.998  45.8  6.0622  3.0  222.0   \n",
       "4  0.06905   0.0   2.18   0.0  0.458  7.147  54.2  6.0622  3.0  222.0   \n",
       "5  0.02985   0.0   2.18   0.0  0.458  6.430  58.7  6.0622  3.0  222.0   \n",
       "\n",
       "   PTRATIO       B  LSTAT  MEDV  \n",
       "0     15.3  396.90   4.98  24.0  \n",
       "1     17.8  396.90   9.14  21.6  \n",
       "2     17.8  392.83   4.03  34.7  \n",
       "3     18.7  394.63   2.94  33.4  \n",
       "4     18.7  396.90   5.33  36.2  \n",
       "5     18.7  394.12   5.21  28.7  "
      ]
     },
     "execution_count": 34,
     "metadata": {},
     "output_type": "execute_result"
    }
   ],
   "source": [
    "import pandas as pd\n",
    "df = pd.DataFrame(boston.data)\n",
    "df.columns = boston.feature_names\n",
    "df['MEDV'] = boston.target\n",
    "df.head(6)"
   ]
  },
  {
   "cell_type": "markdown",
   "metadata": {},
   "source": [
    "Now, create the target vector `y` using the values in the column `MEDV` using the `numpy.array` command. \n",
    "Similarly, create the feature vector `x` using the values in the `LSTAT` column."
   ]
  },
  {
   "cell_type": "code",
   "execution_count": 35,
   "metadata": {},
   "outputs": [
    {
     "data": {
      "text/plain": [
       "<matplotlib.collections.PathCollection at 0x1a1c09af90>"
      ]
     },
     "execution_count": 35,
     "metadata": {},
     "output_type": "execute_result"
    },
    {
     "data": {
      "image/png": "[encoded data removed]",
      "text/plain": [
       "<Figure size 432x288 with 1 Axes>"
      ]
     },
     "metadata": {
      "needs_background": "light"
     },
     "output_type": "display_data"
    }
   ],
   "source": [
    "# TODO\n",
    "# y = ...\n",
    "# X = ...\n",
    "y = np.array(df['MEDV'])\n",
    "x = np.array(df['LSTAT'])\n",
    "plt.scatter(x, y)"
   ]
  },
  {
   "cell_type": "markdown",
   "metadata": {},
   "source": [
    "# Fitting Models with Different Orders\n",
    "We will now fit the polynomial model to the data using order d = 1 and order d = 15, for illustration.\n",
    "\n",
    "For this, we'll use the `polyfit` command of the `numpy.polynomial.polynomial` library."
   ]
  },
  {
   "cell_type": "code",
   "execution_count": 55,
   "metadata": {},
   "outputs": [
    {
     "data": {
      "text/plain": [
       "Text(0, 0.5, 'Median value of owner-occupied homes in $1000s')"
      ]
     },
     "execution_count": 55,
     "metadata": {},
     "output_type": "execute_result"
    },
    {
     "data": {
      "image/png": "[encoded data removed]",
      "text/plain": [
       "<Figure size 432x288 with 1 Axes>"
      ]
     },
     "metadata": {
      "needs_background": "light"
     },
     "output_type": "display_data"
    }
   ],
   "source": [
    "# TODO \n",
    "# Import polynomial library\n",
    "import numpy.polynomial.polynomial as poly\n",
    "# d1 = 1,d2 = 15\n",
    "d1 = 1\n",
    "d2 =15\n",
    "# beta1 = \n",
    "beta1 = poly.polyfit(x,y,d1)\n",
    "# beta2 =\n",
    "beta2 = poly.polyfit(x,y,d2)\n",
    "# xp = # grid of feature values\n",
    "xp = np.linspace(1, 39, 1000)\n",
    "# yp_hat1 = # target prediction on grid using polynomial order d1\n",
    "yp_hat1 = poly.polyval(xp, beta1)\n",
    "# yp_hat1 = # target prediction on grid using polynomial order d2\n",
    "yp_hat2 = poly.polyval(xp, beta2)\n",
    "# Make a scatterplot and superimpose prediction curves for d1 and d2\n",
    "plt.plot(xp,yp_hat1, color = 'red')\n",
    "plt.plot(xp,yp_hat2, color = 'orange')\n",
    "plt.scatter(x, y, color = 'lightblue')\n",
    "# Add grid lines, axis labels, and a legend\n",
    "plt.legend(['d=1', 'd=15', 'data'], loc='upper left')\n",
    "plt.grid()\n",
    "plt.xlabel('% lower status of the population')\n",
    "plt.ylabel('Median value of owner-occupied homes in $1000s')"
   ]
  },
  {
   "cell_type": "markdown",
   "metadata": {},
   "source": [
    "How do these two model orders perform?  Are the results as expected? Can we do better?"
   ]
  },
  {
   "cell_type": "markdown",
   "metadata": {},
   "source": [
    "## K-fold Cross-Validation\n",
    "\n",
    "We now optimize the polynomial model order using 5-fold cross-validation.  You can follow the method used in the polynomial demo.  The first step is to create a matrix of test RSS values over all hypothesized model orders and all splits."
   ]
  },
  {
   "cell_type": "code",
   "execution_count": 43,
   "metadata": {},
   "outputs": [
    {
     "name": "stdout",
     "output_type": "stream",
     "text": [
      "[[87.81171301 60.09370248 99.01128841 94.16819304 83.22526676]\n",
      " [40.99684491 23.17790129 48.5724941  49.90601197 31.33834362]\n",
      " [28.71582081 19.34948829 35.70413477 42.05054017 27.64531406]\n",
      " [26.84146878 18.17723475 36.43305564 39.4323649  26.87343867]\n",
      " [26.02675003 16.93790792 34.46093798 37.00496478 26.50545038]\n",
      " [25.78312105 16.44590492 35.12808473 36.35039737 24.95256191]\n",
      " [27.78355768 16.21926229 34.44422088 36.29967669 24.76715114]\n",
      " [31.69983698 16.60886313 34.25920009 36.35290649 24.81727006]\n",
      " [35.72049991 16.68653056 35.93772113 36.18391319 26.23111762]\n",
      " [33.89149552 16.35692371 33.98100016 35.79878775 25.63305083]]\n"
     ]
    }
   ],
   "source": [
    "import sklearn.model_selection\n",
    "\n",
    "# TODO\n",
    "# Create a k-fold object\n",
    "k = 5\n",
    "kfo = sklearn.model_selection.KFold(n_splits=k,shuffle=True)\n",
    "# Model orders to be tested\n",
    "dtest = np.arange(0,10)\n",
    "nd = len(dtest)\n",
    "\n",
    "RSSts = np.zeros((nd,k))\n",
    "# Loop over the folds\n",
    "    # Get the training data in the split\n",
    "    # Loop over the model order\n",
    "        # Fit data on training data\n",
    "        # Measure RSS on test data\n",
    "        # RSSts[it,itsplit] = \n",
    "for itsplit, Ind in enumerate(kfo.split(x)): # enumerate returns a counter (isplit) and a list (Ind)\n",
    "        \n",
    "    # Get the training data in the split\n",
    "    Itr, Its = Ind \n",
    "    #kfo.split( ) produced Ind, which contains a pair of index sets for each fold \n",
    "    xtr = x[Itr]\n",
    "    ytr = y[Itr]\n",
    "    xts = x[Its]\n",
    "    yts = y[Its]\n",
    "    \n",
    "    # Loop over the model order\n",
    "    for it, d in enumerate(dtest):\n",
    "    \n",
    "        # Fit data on training data\n",
    "        beta_hat = poly.polyfit(xtr,ytr,d)\n",
    "        \n",
    "        # Measure RSS on test data\n",
    "        yhat = poly.polyval(xts,beta_hat)\n",
    "        RSSts[it,itsplit] = np.mean((yhat-yts)**2)\n",
    "print(RSSts)\n"
   ]
  },
  {
   "cell_type": "markdown",
   "metadata": {},
   "source": [
    "Next, compute the mean and standard error of the RSS over the folds for each model order.  The standard error is defined as the standard deviation *$\\sqrt{1/(K-1)}$, where $K$ is the number of folds.  We use $K-1$ to get an unbiased SE estimate.\n",
    "\n",
    "With these RSS statistics, use the one-standard-error rule to find the best model order.  Print out the model order that minimizes mean test RSS, as well as the model order estimated by the one-standard-error rule."
   ]
  },
  {
   "cell_type": "code",
   "execution_count": 47,
   "metadata": {},
   "outputs": [
    {
     "name": "stdout",
     "output_type": "stream",
     "text": [
      "[84.86203274 38.79831918 30.69305962 29.55151255 28.18720222 27.732014\n",
      " 27.90277374 28.74761535 30.15195648 29.13225159]\n"
     ]
    },
    {
     "data": {
      "image/png": "[encoded data removed]",
      "text/plain": [
       "<Figure size 432x288 with 1 Axes>"
      ]
     },
     "metadata": {
      "needs_background": "light"
     },
     "output_type": "display_data"
    }
   ],
   "source": [
    "# TODO\n",
    "# compute mean and standard error of RSS\n",
    "# find model order that minimizes test RSS\n",
    "# print(\"The model order that minimizes mean test RSS is ...\")\n",
    "# estimate model order according to the one-standard-error rule\n",
    "# print(\"The model order estimated by the one-standard-error rule is ...\")\n",
    "RSS_mean = np.mean(RSSts,axis=1) \n",
    "print(RSS_mean)\n",
    "RSS_se  = np.std(RSSts,axis=1)/np.sqrt(k-1)\n",
    "plt.errorbar(dtest, RSS_mean, yerr=RSS_se, fmt='-')\n",
    "plt.xlabel('Model order')\n",
    "plt.ylabel('mean Test RSS')\n",
    "plt.grid()"
   ]
  },
  {
   "cell_type": "markdown",
   "metadata": {},
   "source": [
    "Next, illustrate the one-standard-error-rule procedure by making a plot that shows the following:\n",
    "* the mean test RSS curve with errorbars\n",
    "* a dashed line showing the model order yielding minimum mean test RSS\n",
    "* a dashed line showing the target RSS\n",
    "* a dashed line showing the model order estimated by the one-standard-error rule\n",
    "\n",
    "Also, add a grid and axis labels to your plot.  Use ylim if needed to zoom into the relevant range."
   ]
  },
  {
   "cell_type": "code",
   "execution_count": 51,
   "metadata": {},
   "outputs": [
    {
     "name": "stdout",
     "output_type": "stream",
     "text": [
      "The estimated model order is 2\n"
     ]
    },
    {
     "data": {
      "image/png": "[encoded data removed]",
      "text/plain": [
       "<Figure size 432x288 with 1 Axes>"
      ]
     },
     "metadata": {
      "needs_background": "light"
     },
     "output_type": "display_data"
    }
   ],
   "source": [
    "# TODO\n",
    "# Find the minimum RSS target\n",
    "imin = np.argmin(RSS_mean)\n",
    "RSS_tgt = RSS_mean[imin] + RSS_se[imin]\n",
    "\n",
    "# Find the lowest model order below the target\n",
    "I = np.where(RSS_mean <= RSS_tgt)[0]\n",
    "iopt = I[0]\n",
    "dopt = dtest[iopt]\n",
    "\n",
    "plt.errorbar(dtest, RSS_mean, yerr=RSS_se, fmt='-')\n",
    "\n",
    "# Plot the line at the RSS target\n",
    "plt.plot([dtest[0],dtest[imin]], [RSS_tgt, RSS_tgt], '--')\n",
    "\n",
    "# Plot the line at the optimal model order\n",
    "plt.plot([dopt,dopt], [0,50], 'g--')\n",
    "\n",
    "\n",
    "plt.xlabel('Model order')\n",
    "plt.ylabel('mean Test RSS')\n",
    "plt.grid()\n",
    "\n",
    "# Print results\n",
    "print(\"The estimated model order is %d\" % dopt)"
   ]
  },
  {
   "cell_type": "markdown",
   "metadata": {},
   "source": [
    "Finally, make a scatter plot of the data and superimpose\n",
    "* the polynomial prediction curve with the order that minimizes mean RSS\n",
    "* the polynomial prediction curve with the order selected by the one-standard-error rule\n",
    "\n",
    "As usual, add grid lines, axis labels, and a legend to your curve"
   ]
  },
  {
   "cell_type": "code",
   "execution_count": null,
   "metadata": {},
   "outputs": [],
   "source": [
    "# fit the model\n",
    "# compute the polynomial prediction curve \n",
    "# make scatterplot and superimpose curves\n",
    "# add legend, axis labels, grid"
   ]
  },
  {
   "cell_type": "markdown",
   "metadata": {},
   "source": []
  },
  {
   "cell_type": "code",
   "execution_count": 54,
   "metadata": {},
   "outputs": [
    {
     "data": {
      "text/plain": [
       "Text(0, 0.5, 'Median value of owner-occupied homes in $1000s')"
      ]
     },
     "execution_count": 54,
     "metadata": {},
     "output_type": "execute_result"
    },
    {
     "data": {
      "image/png": "[encoded data removed]",
      "text/plain": [
       "<Figure size 432x288 with 1 Axes>"
      ]
     },
     "metadata": {
      "needs_background": "light"
     },
     "output_type": "display_data"
    }
   ],
   "source": [
    "# TODO \n",
    "# Import polynomial library\n",
    "import numpy.polynomial.polynomial as poly\n",
    "# beta1 = \n",
    "beta = poly.polyfit(x,y,dopt)\n",
    "# xp = # grid of feature values\n",
    "xp = np.linspace(1, 39, 1000)\n",
    "# yp_hat1 = # target prediction on grid using polynomial order d1\n",
    "yp_hat = poly.polyval(xp, beta)\n",
    "# Make a scatterplot and superimpose prediction curves for d1 and d2\n",
    "plt.plot(xp,yp_hat, color = 'red')\n",
    "plt.scatter(x, y, color = 'lightblue')\n",
    "# Add grid lines, axis labels, and a legend\n",
    "plt.legend(['optimal fit', 'data'], loc='upper left')\n",
    "plt.grid()\n",
    "plt.xlabel('% lower status of the population')\n",
    "plt.ylabel('Median value of owner-occupied homes in $1000s')"
   ]
  },
  {
   "cell_type": "code",
   "execution_count": null,
   "metadata": {},
   "outputs": [],
   "source": []
  }
 ],
 "metadata": {
  "anaconda-cloud": {},
  "kernelspec": {
   "display_name": "Python 3",
   "language": "python",
   "name": "python3"
  },
  "language_info": {
   "codemirror_mode": {
    "name": "ipython",
    "version": 3
   },
   "file_extension": ".py",
   "mimetype": "text/x-python",
   "name": "python",
   "nbconvert_exporter": "python",
   "pygments_lexer": "ipython3",
   "version": "3.7.4"
  },
  "varInspector": {
   "cols": {
    "lenName": 16,
    "lenType": 16,
    "lenVar": 40
   },
   "kernels_config": {
    "python": {
     "delete_cmd_postfix": "",
     "delete_cmd_prefix": "del ",
     "library": "var_list.py",
     "varRefreshCmd": "print(var_dic_list())"
    },
    "r": {
     "delete_cmd_postfix": ") ",
     "delete_cmd_prefix": "rm(",
     "library": "var_list.r",
     "varRefreshCmd": "cat(var_dic_list()) "
    }
   },
   "types_to_exclude": [
    "module",
    "function",
    "builtin_function_or_method",
    "instance",
    "_Feature"
   ],
   "window_display": false
  }
 },
 "nbformat": 4,
 "nbformat_minor": 1
}
